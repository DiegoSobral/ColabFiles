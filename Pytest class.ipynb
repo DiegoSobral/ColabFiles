{
  "nbformat": 4,
  "nbformat_minor": 0,
  "metadata": {
    "colab": {
      "provenance": [],
      "include_colab_link": true
    },
    "kernelspec": {
      "name": "python3",
      "display_name": "Python 3"
    },
    "language_info": {
      "name": "python"
    }
  },
  "cells": [
    {
      "cell_type": "markdown",
      "metadata": {
        "id": "view-in-github",
        "colab_type": "text"
      },
      "source": [
        "<a href=\"https://colab.research.google.com/github/DiegoSobral/ColabFiles/blob/main/Pytest%20class.ipynb\" target=\"_parent\"><img src=\"https://colab.research.google.com/assets/colab-badge.svg\" alt=\"Open In Colab\"/></a>"
      ]
    },
    {
      "cell_type": "code",
      "source": [
        "class BankAccount:\n",
        "    def __init__(self, account_number):\n",
        "        self.account_number = account_number\n",
        "\n",
        "    def check_balance(self):\n",
        "        # Simule a chamada a um sistema externo para obter o saldo real\n",
        "        # Neste caso, usamos um stub que retorna um saldo fixo para fins de teste\n",
        "        return ExternalSystemStub.get_balance(self.account_number)\n",
        "\n",
        "class ExternalSystemStub:\n",
        "    # Dicionário para armazenar saldos simulados de contas\n",
        "    account_balances = {\n",
        "        \"12345\": 1000.0,\n",
        "        \"67890\": 500.0\n",
        "    }\n",
        "\n",
        "    @classmethod\n",
        "    def get_balance(cls, account_number):\n",
        "        # Simula a consulta ao sistema externo para obter o saldo\n",
        "        # Retorna o saldo da conta se existir, caso contrário, retorna 0.0\n",
        "        return cls.account_balances.get(account_number, 0.0)"
      ],
      "metadata": {
        "id": "SsT2qotVI71y"
      },
      "execution_count": 1,
      "outputs": []
    },
    {
      "cell_type": "code",
      "source": [
        "import unittest\n",
        "\n",
        "class TestBankAccount(unittest.TestCase):\n",
        "\n",
        "    def test_balance_with_stub(self):\n",
        "\n",
        "      account = BankAccount(\"12345\")\n",
        "      balance = account.check_balance()\n",
        "      self.assertEqual(balance, 1000.0)\n",
        "\n",
        "if __name__ == '_main_':\n",
        "  unittest.main()"
      ],
      "metadata": {
        "id": "7iCY_fBOI-mR"
      },
      "execution_count": 2,
      "outputs": []
    },
    {
      "cell_type": "code",
      "execution_count": 3,
      "metadata": {
        "id": "4IcWFwnfIvas"
      },
      "outputs": [],
      "source": [
        "import math\n",
        "\n",
        "class AreaCalculator():\n",
        "\n",
        "    def calcular_area_retangulo(comprimento,largura):\n",
        "        area = comprimento * largura\n",
        "        return area\n",
        "\n",
        "    def calcular_area_triangulo(self, base, altura, tipo):\n",
        "        if tipo == \"equilatero\":\n",
        "            area = (base * altura) / 2\n",
        "\n",
        "        elif tipo == \"isosceles\":\n",
        "            area = (base * altura) / 2\n",
        "\n",
        "        elif tipo == \"escaleno\":\n",
        "                        area = (base * altura) / 2\n",
        "\n",
        "        else:\n",
        "            raise ValueError(\"Tipo de triângulo não suportado\")\n",
        "        return area\n",
        "\n",
        "    def calcular_area_circulo(self, raio):\n",
        "        area = math.pi * (raio ** 2)\n",
        "        return area"
      ]
    },
    {
      "cell_type": "code",
      "source": [
        "import unittest\n",
        "\n",
        "class TestAreaCalculator(unittest.TestCase):\n",
        "\n",
        "  def test_calcular_area_retangulo(comprimento, largura):\n",
        "    area = comprimento * largura\n",
        "    return area\n",
        "\n",
        "    comprimento = 20\n",
        "    largura = 5\n",
        "    self.assertEqual(area, 100)"
      ],
      "metadata": {
        "id": "oAoYM2UNNCRy"
      },
      "execution_count": 4,
      "outputs": []
    },
    {
      "cell_type": "code",
      "source": [
        "import unittest\n",
        "\n",
        "class TestAreaCalculator(unittest.TestCase):\n",
        "\n",
        "  def test_calcular_area_triangulo(self, base, altura, tipo):\n",
        "    if tipo == \"equilatero\":\n",
        "      area = (base * altura) / 2\n",
        "\n",
        "    elif tipo == \"isosceles\":\n",
        "      area = (base * altura) / 2\n",
        "\n",
        "    elif tipo == \"escaleno\":\n",
        "      area = (base * altura) / 2\n",
        "\n",
        "    else:\n",
        "      raise ValueError(\"Tipo de triângulo não suportado\")\n",
        "    return area\n",
        "\n",
        "    tipo = isosceles\n",
        "    base = 20.0000001\n",
        "    altura = 69.24\n",
        "    self.assertEqual(area, 672.400003362)\n",
        "\n",
        "    tipo = equilatero\n",
        "    base = 4\n",
        "    altura = 5.66\n",
        "    self.assertEqual(area, 11.32)\n",
        "\n",
        "    tipo = escaleno\n",
        "    base = 5\n",
        "    altura = 4\n",
        "    self.assertEqual(area, 10)"
      ],
      "metadata": {
        "id": "uTjYNCCsATsA"
      },
      "execution_count": 5,
      "outputs": []
    },
    {
      "cell_type": "code",
      "source": [
        "import unittest\n",
        "import math\n",
        "\n",
        "class TestAreaCalculator(unittest.TestCase):\n",
        "\n",
        "    def calcular_area_circulo(self, raio):\n",
        "        area = math.pi * (raio ** 2)\n",
        "        return area\n",
        "\n",
        "    def test_area_circulo(self):\n",
        "        raio = 2\n",
        "        area_esperada = 4 * math.pi\n",
        "        area_calculada = self.calcular_area_circulo(raio)\n",
        "        self.assertEqual(area_calculada, area_esperada)"
      ],
      "metadata": {
        "id": "Noava1zJAotX"
      },
      "execution_count": 6,
      "outputs": []
    }
  ]
}